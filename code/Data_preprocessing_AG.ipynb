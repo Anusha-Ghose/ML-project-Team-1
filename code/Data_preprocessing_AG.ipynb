{
  "nbformat": 4,
  "nbformat_minor": 0,
  "metadata": {
    "colab": {
      "provenance": []
    },
    "kernelspec": {
      "name": "python3",
      "display_name": "Python 3"
    },
    "language_info": {
      "name": "python"
    }
  },
  "cells": [
    {
      "cell_type": "code",
      "execution_count": 7,
      "metadata": {
        "colab": {
          "base_uri": "https://localhost:8080/"
        },
        "id": "KnLi0As8_-E7",
        "outputId": "adf2ff41-24f3-43d5-8fe8-2a7f71fb5fe9"
      },
      "outputs": [
        {
          "output_type": "stream",
          "name": "stdout",
          "text": [
            " Saved raw dataset as turbofan_full.csv\n"
          ]
        },
        {
          "output_type": "stream",
          "name": "stderr",
          "text": [
            "<ipython-input-7-1529216548>:18: FutureWarning: A value is trying to be set on a copy of a DataFrame or Series through chained assignment using an inplace method.\n",
            "The behavior will change in pandas 3.0. This inplace method will never work because the intermediate object on which we are setting values always behaves as a copy.\n",
            "\n",
            "For example, when doing 'df[col].method(value, inplace=True)', try using 'df.method({col: value}, inplace=True)' or df[col] = df[col].method(value) instead, to perform the operation inplace on the original object.\n",
            "\n",
            "\n",
            "  df[col].fillna(df[col].median(), inplace=True)\n"
          ]
        },
        {
          "output_type": "stream",
          "name": "stdout",
          "text": [
            "Saved preprocessed dataset as turbofan_preprocessed.csv\n",
            " Sample preprocessed data:\n",
            "   Unnamed: 0  engine  cycle  setting_1  setting_2  setting_3  \\\n",
            "0   -1.731967       1      1  -0.315980  -1.372953        0.0   \n",
            "1   -1.731799       1      2   0.872722  -1.031720        0.0   \n",
            "2   -1.731631       1      3  -1.961874   1.015677        0.0   \n",
            "3   -1.731463       1      4   0.324090  -0.008022        0.0   \n",
            "4   -1.731295       1      5  -0.864611  -0.690488        0.0   \n",
            "\n",
            "   (Fan inlet temperature) (◦R)  (LPC outlet temperature) (◦R)  \\\n",
            "0                           0.0                      -1.721725   \n",
            "1                           0.0                      -1.061780   \n",
            "2                           0.0                      -0.661813   \n",
            "3                           0.0                      -0.661813   \n",
            "4                           0.0                      -0.621816   \n",
            "\n",
            "   (HPC outlet temperature) (◦R)  (LPT outlet temperature) (◦R)  ...  \\\n",
            "0                      -0.134255                      -0.925936  ...   \n",
            "1                       0.211528                      -0.643726  ...   \n",
            "2                      -0.413166                      -0.525953  ...   \n",
            "3                      -1.261314                      -0.784831  ...   \n",
            "4                      -1.251528                      -0.301518  ...   \n",
            "\n",
            "   (Ratio of fuel flow to Ps30) (pps/psia)  (Corrected fan speed) (rpm)  \\\n",
            "0                                 0.334262                    -1.058890   \n",
            "1                                 1.174899                    -0.363646   \n",
            "2                                 1.364721                    -0.919841   \n",
            "3                                 1.961302                    -0.224597   \n",
            "4                                 1.052871                    -0.780793   \n",
            "\n",
            "   (Corrected core speed) (rpm)  (Bypass Ratio)   (Burner fuel-air ratio)  \\\n",
            "0                     -0.269071        -0.603816            -1.387779e-17   \n",
            "1                     -0.642845        -0.275852            -1.387779e-17   \n",
            "2                     -0.551629        -0.649144            -1.387779e-17   \n",
            "3                     -0.520176        -1.971665            -1.387779e-17   \n",
            "4                     -0.521748        -0.339845            -1.387779e-17   \n",
            "\n",
            "   (Bleed Enthalpy)  (Required fan speed)  (Required fan conversion speed)  \\\n",
            "0         -0.781710                   0.0                              0.0   \n",
            "1         -0.781710                   0.0                              0.0   \n",
            "2         -2.073094                   0.0                              0.0   \n",
            "3         -0.781710                   0.0                              0.0   \n",
            "4         -0.136018                   0.0                              0.0   \n",
            "\n",
            "   (High-pressure turbines Cool air flow)  \\\n",
            "0                                1.348493   \n",
            "1                                1.016528   \n",
            "2                                0.739891   \n",
            "3                                0.352598   \n",
            "4                                0.463253   \n",
            "\n",
            "   (Low-pressure turbines Cool air flow)  \n",
            "0                               1.194427  \n",
            "1                               1.236922  \n",
            "2                               0.503423  \n",
            "3                               0.777792  \n",
            "4                               1.059552  \n",
            "\n",
            "[5 rows x 27 columns]\n"
          ]
        }
      ],
      "source": [
        "\n",
        "!pip install -q pandas numpy scikit-learn\n",
        "\n",
        "\n",
        "import pandas as pd\n",
        "from sklearn.preprocessing import StandardScaler\n",
        "\n",
        "url = \"https://huggingface.co/datasets/nominal-io/nasa-turbofan-degradation/resolve/main/NASA_turbofan_train_FD001.csv\"\n",
        "df = pd.read_csv(url)\n",
        "\n",
        "\n",
        "df.to_csv(\"turbofan_full.csv\", index=False)\n",
        "print(\" Saved raw dataset as turbofan_full.csv\")\n",
        "\n",
        "for col in df.columns:\n",
        "    if df[col].dtype == \"object\":\n",
        "        df[col].fillna(df[col].mode()[0], inplace=True)\n",
        "    else:\n",
        "        df[col].fillna(df[col].median(), inplace=True)\n",
        "\n",
        "\n",
        "exclude = ['engine', 'cycle']\n",
        "num_cols = [c for c in df.select_dtypes(['int64', 'float64']).columns if c not in exclude]\n",
        "\n",
        "scaler = StandardScaler()\n",
        "df_scaled = df.copy()\n",
        "df_scaled[num_cols] = scaler.fit_transform(df[num_cols])\n",
        "\n",
        "\n",
        "df_scaled.to_csv(\"turbofan_preprocessed.csv\", index=False)\n",
        "print(\"Saved preprocessed dataset as turbofan_preprocessed.csv\")\n",
        "\n",
        "\n",
        "print(\" Sample preprocessed data:\")\n",
        "print(df_scaled.head())\n",
        "\n"
      ]
    },
    {
      "cell_type": "code",
      "source": [
        "from google.colab import drive\n",
        "drive.mount('/content/drive')\n",
        "\n",
        "df_scaled.to_csv('/content/drive/MyDrive/turbofan_preprocessed.csv', index=False)\n"
      ],
      "metadata": {
        "colab": {
          "base_uri": "https://localhost:8080/"
        },
        "id": "SSIs2KORC8Yd",
        "outputId": "1b1ffe53-410b-4e59-c8e0-b711a7758986"
      },
      "execution_count": 8,
      "outputs": [
        {
          "output_type": "stream",
          "name": "stdout",
          "text": [
            "Drive already mounted at /content/drive; to attempt to forcibly remount, call drive.mount(\"/content/drive\", force_remount=True).\n"
          ]
        }
      ]
    },
    {
      "cell_type": "code",
      "source": [
        "from google.colab import drive\n",
        "drive.mount('/content/drive')\n",
        "import pandas as pd\n",
        "\n",
        "\n",
        "url = \"https://huggingface.co/datasets/nominal-io/nasa-turbofan-degradation/resolve/main/NASA_turbofan_train_FD001.csv\"\n",
        "\n",
        "\n",
        "df = pd.read_csv(url)\n",
        "\n",
        "\n",
        "save_path = '/content/drive/MyDrive/nasa_turbofan_original.csv'\n",
        "\n",
        "\n",
        "df.to_csv(save_path, index=False)\n",
        "\n",
        "print(f\" Dataset saved to Google Drive at: {save_path}\")\n"
      ],
      "metadata": {
        "colab": {
          "base_uri": "https://localhost:8080/"
        },
        "id": "JTPt4GYgFLa4",
        "outputId": "41c8cc9f-9fe3-4e85-b39c-a523462e9096"
      },
      "execution_count": 9,
      "outputs": [
        {
          "output_type": "stream",
          "name": "stdout",
          "text": [
            "Drive already mounted at /content/drive; to attempt to forcibly remount, call drive.mount(\"/content/drive\", force_remount=True).\n",
            " Dataset saved to Google Drive at: /content/drive/MyDrive/nasa_turbofan_original.csv\n"
          ]
        }
      ]
    }
  ]
}